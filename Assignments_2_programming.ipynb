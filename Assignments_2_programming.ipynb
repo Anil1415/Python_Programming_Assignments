{
 "cells": [
  {
   "cell_type": "code",
   "execution_count": null,
   "id": "25af63a9",
   "metadata": {},
   "outputs": [],
   "source": [
    "1.\tWrite a Python program to convert kilometers to miles?"
   ]
  },
  {
   "cell_type": "code",
   "execution_count": 1,
   "id": "2f369771",
   "metadata": {
    "scrolled": true
   },
   "outputs": [
    {
     "name": "stdout",
     "output_type": "stream",
     "text": [
      "Enter the kilometers: \n",
      "Enter a value : 1.65\n",
      "Kilometers to miles is 1.03:\n"
     ]
    }
   ],
   "source": [
    "class distance:\n",
    "    def __init__(self,km):\n",
    "        self.km = km \n",
    "    def km_m(self):\n",
    "        miles = self.km * 0.621371\n",
    "        return miles\n",
    "print('Enter the kilometers: ')\n",
    "kilometers = float(input('Enter a value : '))\n",
    "obj = distance(kilometers)\n",
    "miles_conversion = obj.km_m()\n",
    "print('Kilometers to miles is {:.2f}:'.format(miles_conversion))"
   ]
  },
  {
   "cell_type": "code",
   "execution_count": null,
   "id": "75c3c96a",
   "metadata": {},
   "outputs": [],
   "source": []
  },
  {
   "cell_type": "code",
   "execution_count": null,
   "id": "f545a930",
   "metadata": {},
   "outputs": [],
   "source": [
    "2.\tWrite a Python program to convert Celsius to Fahrenheit?"
   ]
  },
  {
   "cell_type": "code",
   "execution_count": 2,
   "id": "b66b1008",
   "metadata": {},
   "outputs": [
    {
     "name": "stdout",
     "output_type": "stream",
     "text": [
      "Enter the temperature in celsius: \n",
      "Enter the value in C:  36.5\n",
      "Fahrenheight is F: 97.7\n"
     ]
    }
   ],
   "source": [
    "class temperature:\n",
    "    def __init__(self,degC):\n",
    "        self.degc = degC\n",
    "        \n",
    "    def degc_F(self):\n",
    "        faren = (self.degc*1.8) +32\n",
    "        return faren\n",
    "    \n",
    "print('Enter the temperature in celsius: ')\n",
    "temp_c = float(input('Enter the value in C:  '))\n",
    "obj = temperature(temp_c)\n",
    "a = obj.degc_F()\n",
    "print(f\"Fahrenheight is F: {a}\")"
   ]
  },
  {
   "cell_type": "code",
   "execution_count": null,
   "id": "02148e52",
   "metadata": {},
   "outputs": [],
   "source": []
  },
  {
   "cell_type": "code",
   "execution_count": null,
   "id": "31f2f9cb",
   "metadata": {},
   "outputs": [],
   "source": [
    "3.\tWrite a Python program to display calendar?"
   ]
  },
  {
   "cell_type": "code",
   "execution_count": 3,
   "id": "49d4f26b",
   "metadata": {},
   "outputs": [
    {
     "name": "stdout",
     "output_type": "stream",
     "text": [
      "Enter the year: 2023\n",
      "Enter the month 01\n",
      "    January 2023\n",
      "Mo Tu We Th Fr Sa Su\n",
      "                   1\n",
      " 2  3  4  5  6  7  8\n",
      " 9 10 11 12 13 14 15\n",
      "16 17 18 19 20 21 22\n",
      "23 24 25 26 27 28 29\n",
      "30 31\n",
      "\n"
     ]
    }
   ],
   "source": [
    "import calendar\n",
    "year = int(input('Enter the year: '))\n",
    "month = int(input('Enter the month '))\n",
    "print(calendar.month(year, month))"
   ]
  },
  {
   "cell_type": "code",
   "execution_count": null,
   "id": "37e375dd",
   "metadata": {},
   "outputs": [],
   "source": []
  },
  {
   "cell_type": "code",
   "execution_count": null,
   "id": "a8719f1d",
   "metadata": {},
   "outputs": [],
   "source": [
    "4.\tWrite a Python program to solve quadratic equation?"
   ]
  },
  {
   "cell_type": "code",
   "execution_count": 4,
   "id": "979eb7f9",
   "metadata": {},
   "outputs": [
    {
     "name": "stdout",
     "output_type": "stream",
     "text": [
      "Enter a,b,c coefficient values of quadratic expression: 2,7,3\n",
      "roots are: -0.50,-3.00\n"
     ]
    }
   ],
   "source": [
    "# quadratic equation is ax2+bx+c and a != 0\n",
    "# math module anddd square root function\n",
    "from math import sqrt\n",
    "def quad_eq(a,b,c):\n",
    "    input_values = True\n",
    "    while input_values:\n",
    "        try:\n",
    "            # Enter a,b,c values seperated by comma\n",
    "            a,b,c = eval(input('Enter a,b,c coefficient values of quadratic expression: '))\n",
    "            float(a), float(b), float(c)\n",
    "\n",
    "            dis = b**2 - 4*a*c                                            \n",
    "            if dis>=0:\n",
    "                x1 = (-b+sqrt(dis))/(2*a)\n",
    "                x2 = (-b-sqrt(dis))/(2*a)\n",
    "                print('roots are: {:.2f},{:.2f}'.format(x1,x2))  \n",
    "            else:\n",
    "                print('Equation has no solutions')\n",
    "            break\n",
    "        except Exception as e:\n",
    "            print('Error occured',e)\n",
    "            print('Enter correct values of quadartic equation')\n",
    "quad_eq(1,2,3)"
   ]
  },
  {
   "cell_type": "code",
   "execution_count": null,
   "id": "eaea112c",
   "metadata": {},
   "outputs": [],
   "source": []
  },
  {
   "cell_type": "code",
   "execution_count": null,
   "id": "c925e655",
   "metadata": {},
   "outputs": [],
   "source": [
    "5.\tWrite a Python program to swap two variables without temp variable?"
   ]
  },
  {
   "cell_type": "code",
   "execution_count": 5,
   "id": "504abf14",
   "metadata": {},
   "outputs": [
    {
     "name": "stdout",
     "output_type": "stream",
     "text": [
      "Enter integer value of a: 7\n",
      "Enter integer value of b: 5\n"
     ]
    },
    {
     "data": {
      "text/plain": [
       "(5, 7)"
      ]
     },
     "execution_count": 5,
     "metadata": {},
     "output_type": "execute_result"
    }
   ],
   "source": [
    "class swap:\n",
    "    def with_temporay_var (self,x,y):\n",
    "        temp_var = x\n",
    "        x = y\n",
    "        y = temp_var\n",
    "        return x, y\n",
    "    def without_temp_var(self,p,q):\n",
    "        p,q = q,p\n",
    "        return p,q\n",
    "a = int(input('Enter integer value of a: '))\n",
    "b = int(input('Enter integer value of b: '))\n",
    "obj_swap = swap()\n",
    "obj_swap.without_temp_var(a,b)\n"
   ]
  },
  {
   "cell_type": "code",
   "execution_count": null,
   "id": "1cdb5479",
   "metadata": {},
   "outputs": [],
   "source": []
  }
 ],
 "metadata": {
  "kernelspec": {
   "display_name": "Python 3 (ipykernel)",
   "language": "python",
   "name": "python3"
  },
  "language_info": {
   "codemirror_mode": {
    "name": "ipython",
    "version": 3
   },
   "file_extension": ".py",
   "mimetype": "text/x-python",
   "name": "python",
   "nbconvert_exporter": "python",
   "pygments_lexer": "ipython3",
   "version": "3.9.12"
  }
 },
 "nbformat": 4,
 "nbformat_minor": 5
}
