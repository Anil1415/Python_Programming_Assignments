{
 "cells": [
  {
   "cell_type": "code",
   "execution_count": null,
   "id": "25e43eae",
   "metadata": {},
   "outputs": [],
   "source": [
    "1.\tWrite a Python Program to Display Fibonacci Sequence Using Recursion?"
   ]
  },
  {
   "cell_type": "code",
   "execution_count": 1,
   "id": "27375615",
   "metadata": {},
   "outputs": [
    {
     "data": {
      "text/plain": [
       "6765"
      ]
     },
     "execution_count": 1,
     "metadata": {},
     "output_type": "execute_result"
    }
   ],
   "source": [
    "class Fibonac:\n",
    "    # x = eval(input(\"Enetr positive interger value greater than 0: \"))\n",
    "    # ini_val = []  # it is class variable\n",
    "    def __init__(self):\n",
    "        # initialise list in class's __init__ method \n",
    "        # this is instance varable\n",
    "        self.ini_val = [0,1]  # starts with 0,1 and calling in a list\n",
    "        \n",
    "        \n",
    "    def __call__(self,x):  # __call__ method helps in calling main class\n",
    "        try:\n",
    "            int(x)\n",
    "            \n",
    "            if x<0:\n",
    "                #  Input should not be less than 0\n",
    "                \n",
    "                print(\"given value is less than 0\")\n",
    "                raise ValueError(f'Positive integer ')\n",
    "            \n",
    "            elif x <len(self.ini_val):\n",
    "                # return [0,1] if given input length is less tha initial value\n",
    "                \n",
    "                return self.ini_val[x]\n",
    "            \n",
    "            else:\n",
    "                # caling the function recursively until the value becomes lesser.\n",
    "                \n",
    "                n = self(x-1)+self(x-2)\n",
    "                # Appending to the list\n",
    "                \n",
    "                self.ini_val.append(n)\n",
    "                \n",
    "            return self.ini_val[x]\n",
    "            \n",
    "        except Exception as e:\n",
    "            print('An error occcured: ', e)\n",
    "            \n",
    "obj = Fibonac()\n",
    "obj(20)"
   ]
  },
  {
   "cell_type": "code",
   "execution_count": null,
   "id": "c4ff281c",
   "metadata": {},
   "outputs": [],
   "source": []
  },
  {
   "cell_type": "code",
   "execution_count": null,
   "id": "cd01127e",
   "metadata": {},
   "outputs": [],
   "source": [
    "2.\tWrite a Python Program to Find Factorial of Number Using Recursion?"
   ]
  },
  {
   "cell_type": "code",
   "execution_count": 2,
   "id": "2b443ea2",
   "metadata": {},
   "outputs": [
    {
     "name": "stdout",
     "output_type": "stream",
     "text": [
      "Enter a number: 6\n"
     ]
    },
    {
     "data": {
      "text/plain": [
       "720"
      ]
     },
     "execution_count": 2,
     "metadata": {},
     "output_type": "execute_result"
    }
   ],
   "source": [
    "class factorial:\n",
    "    def __init__(self,n):\n",
    "        self.n = n  # initialising a number \n",
    "    \n",
    "    def fac(self):\n",
    "        try:\n",
    "            n = int(input('Enter a number: '))\n",
    "           \n",
    "            if (n==0 or n==1):\n",
    "                return 1\n",
    "            \n",
    "            elif n<0:\n",
    "                return factorial.fac(self) #recursive\n",
    "            \n",
    "            else:\n",
    "                pass\n",
    "            \n",
    "                \n",
    "            fact = 1\n",
    "            while n>0:\n",
    "                fact = fact*n\n",
    "                n = n-1\n",
    "            return fact\n",
    "      \n",
    "            \n",
    "        except Exception as e:\n",
    "\n",
    "            print(\"Enter correct input number: \\n\\n\",e)\n",
    "            return factorial.fac(self)\n",
    "        \n",
    "        \n",
    "obj_factorial = factorial(\"n\")\n",
    "obj_factorial.fac()"
   ]
  },
  {
   "cell_type": "code",
   "execution_count": null,
   "id": "6ff2f649",
   "metadata": {},
   "outputs": [],
   "source": []
  },
  {
   "cell_type": "code",
   "execution_count": null,
   "id": "fd60affc",
   "metadata": {},
   "outputs": [],
   "source": [
    "3.\tWrite a Python Program to calculate your Body Mass Index?"
   ]
  },
  {
   "cell_type": "code",
   "execution_count": 3,
   "id": "3d6cbf73",
   "metadata": {},
   "outputs": [
    {
     "name": "stdout",
     "output_type": "stream",
     "text": [
      "Enter yoyr height in centimetres: 168\n",
      "Enter your weight in kg: 78\n",
      "Your BMI is 27.64\n",
      "You are overweight\n"
     ]
    }
   ],
   "source": [
    "def bmi_calculator(height,weight):\n",
    "    return round((weight/(height/100)**2),2)\n",
    "\n",
    "height = float(input(\"Enter yoyr height in centimetres: \"))\n",
    "weight = float(input(\"Enter your weight in kg: \"))\n",
    "\n",
    "bmi = bmi_calculator(height,weight)\n",
    "print(f\"Your BMI is {bmi}\")\n",
    "\n",
    "if bmi<=18.5:\n",
    "    print(\"You are underweight\")\n",
    "    \n",
    "elif 18.5<bmi<=24.9:\n",
    "    print(\"your weight is normal\")\n",
    "    \n",
    "elif 25< bmi<=29.29:\n",
    "    print(\"You are overweight\")\n",
    "    \n",
    "else:\n",
    "    print('You are obese')"
   ]
  },
  {
   "cell_type": "code",
   "execution_count": null,
   "id": "0e04ed4c",
   "metadata": {},
   "outputs": [],
   "source": []
  },
  {
   "cell_type": "code",
   "execution_count": null,
   "id": "0d3d7884",
   "metadata": {},
   "outputs": [],
   "source": [
    "4.\tWrite a Python Program to calculate the natural logarithm of any number?"
   ]
  },
  {
   "cell_type": "code",
   "execution_count": 4,
   "id": "5a2c266e",
   "metadata": {},
   "outputs": [
    {
     "data": {
      "text/plain": [
       "0.693"
      ]
     },
     "execution_count": 4,
     "metadata": {},
     "output_type": "execute_result"
    }
   ],
   "source": [
    "import math \n",
    " \n",
    "round(math.log(2),3)\n"
   ]
  },
  {
   "cell_type": "code",
   "execution_count": null,
   "id": "7f6c3970",
   "metadata": {},
   "outputs": [],
   "source": []
  },
  {
   "cell_type": "code",
   "execution_count": null,
   "id": "aa3f29d0",
   "metadata": {},
   "outputs": [],
   "source": [
    "5.\tWrite a Python Program for cube sum of first n natural numbers?"
   ]
  },
  {
   "cell_type": "code",
   "execution_count": 5,
   "id": "ada6eafa",
   "metadata": {},
   "outputs": [
    {
     "data": {
      "text/plain": [
       "2205225"
      ]
     },
     "execution_count": 5,
     "metadata": {},
     "output_type": "execute_result"
    }
   ],
   "source": [
    "def cube_sum(n):\n",
    "    sum_n3 = 0\n",
    "    for i in range(n+1):\n",
    "        sum_n3 = sum_n3 + i**3\n",
    "    return sum_n3\n",
    "\n",
    "cube_sum(54)"
   ]
  },
  {
   "cell_type": "code",
   "execution_count": null,
   "id": "64a2fd34",
   "metadata": {},
   "outputs": [],
   "source": []
  }
 ],
 "metadata": {
  "kernelspec": {
   "display_name": "Python 3 (ipykernel)",
   "language": "python",
   "name": "python3"
  },
  "language_info": {
   "codemirror_mode": {
    "name": "ipython",
    "version": 3
   },
   "file_extension": ".py",
   "mimetype": "text/x-python",
   "name": "python",
   "nbconvert_exporter": "python",
   "pygments_lexer": "ipython3",
   "version": "3.9.12"
  }
 },
 "nbformat": 4,
 "nbformat_minor": 5
}
