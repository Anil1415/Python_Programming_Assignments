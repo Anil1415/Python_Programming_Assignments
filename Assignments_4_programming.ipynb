{
 "cells": [
  {
   "cell_type": "code",
   "execution_count": null,
   "id": "bb5d2a79",
   "metadata": {},
   "outputs": [],
   "source": [
    "1.\tWrite a Python Program to Find the Factorial of a Number"
   ]
  },
  {
   "cell_type": "code",
   "execution_count": 1,
   "id": "be72ecd4",
   "metadata": {
    "scrolled": true
   },
   "outputs": [
    {
     "name": "stdout",
     "output_type": "stream",
     "text": [
      "Enter a number: 6\n"
     ]
    },
    {
     "data": {
      "text/plain": [
       "720"
      ]
     },
     "execution_count": 1,
     "metadata": {},
     "output_type": "execute_result"
    }
   ],
   "source": [
    "class factorial:\n",
    "    def __init__(self,n):\n",
    "        self.n = n \n",
    "    \n",
    "    def fac(self):\n",
    "        try:\n",
    "            n = int(input('Enter a number: '))\n",
    "           \n",
    "            if (n==0 or n==1):\n",
    "                return 1\n",
    "            elif n<0:\n",
    "                return factorial.fac(self)\n",
    "            else:\n",
    "                pass\n",
    "            \n",
    "                \n",
    "            fact = 1\n",
    "            while n>0:\n",
    "                fact = fact*n\n",
    "                n = n-1\n",
    "            return fact\n",
    "      \n",
    "            \n",
    "        except Exception as e:\n",
    "\n",
    "            print(\"Enter correct input number: \\n\\n\",e)\n",
    "            return factorial.fac(self)\n",
    "obj_factorial = factorial(2)\n",
    "obj_factorial.fac()"
   ]
  },
  {
   "cell_type": "code",
   "execution_count": null,
   "id": "6eb1b915",
   "metadata": {},
   "outputs": [],
   "source": []
  },
  {
   "cell_type": "code",
   "execution_count": null,
   "id": "fdf474f3",
   "metadata": {},
   "outputs": [],
   "source": [
    "2.\tWrite a Python Program to Display the multiplication Table"
   ]
  },
  {
   "cell_type": "code",
   "execution_count": 2,
   "id": "97370fcb",
   "metadata": {},
   "outputs": [],
   "source": [
    "def multi_table(num):\n",
    "    \n",
    "    num = int(input(\"Eneter a num:\"))\n",
    "    count = 1\n",
    "    while count<=10:\n",
    "        print(f\"\\n{num}*{count} = {num*count}\")\n",
    "        count+=1"
   ]
  },
  {
   "cell_type": "code",
   "execution_count": 3,
   "id": "5d5ab25b",
   "metadata": {},
   "outputs": [
    {
     "name": "stdout",
     "output_type": "stream",
     "text": [
      "Eneter a num:7\n",
      "\n",
      "7*1 = 7\n",
      "\n",
      "7*2 = 14\n",
      "\n",
      "7*3 = 21\n",
      "\n",
      "7*4 = 28\n",
      "\n",
      "7*5 = 35\n",
      "\n",
      "7*6 = 42\n",
      "\n",
      "7*7 = 49\n",
      "\n",
      "7*8 = 56\n",
      "\n",
      "7*9 = 63\n",
      "\n",
      "7*10 = 70\n"
     ]
    }
   ],
   "source": [
    "multi_table(4)"
   ]
  },
  {
   "cell_type": "code",
   "execution_count": null,
   "id": "c79fce17",
   "metadata": {},
   "outputs": [],
   "source": []
  },
  {
   "cell_type": "code",
   "execution_count": null,
   "id": "ea18aa3f",
   "metadata": {},
   "outputs": [],
   "source": [
    "3.\tWrite a Python Program to Print the Fibonacci sequence?"
   ]
  },
  {
   "cell_type": "code",
   "execution_count": 4,
   "id": "91118ef8",
   "metadata": {},
   "outputs": [],
   "source": [
    "class Fibonac:\n",
    "    # ini_val = [] is class variable\n",
    "    def __init__(self):\n",
    "        # initialise list in class's __init__ method \n",
    "        #this is instance varable\n",
    "        self.ini_val = [0,1] \n",
    "        \n",
    "    def __call__(self,x):\n",
    "        try:\n",
    "            if x<0:\n",
    "                print(\"given value is less than 0\")\n",
    "                raise ValueError(f'Positive integer ')\n",
    "            \n",
    "            elif x <len(self.ini_val):\n",
    "                return self.ini_val[x]\n",
    "            else:\n",
    "                n = self(x-1)+self(x-2)\n",
    "                self.ini_val.append(n)\n",
    "            return self.ini_val[x]\n",
    "            \n",
    "        except Exception as e:\n",
    "            print('An error occcured: ', e)\n",
    "            #return Fibonac.add_up(self,x)\n",
    "        \n",
    "        \"\"\"\n",
    "        a = self(x-1)+self(x-2)\n",
    "                self.ini_val.append(a)\n",
    "                return self.ini_val\n",
    "        \"\"\"\n",
    "            \n",
    "          \n",
    "        \"\"\"\n",
    "        Enter a positive integer number: 2\n",
    "An error occcured:  'Fibonac' object is not callable\n",
    "        \"\"\"\n",
    "                "
   ]
  },
  {
   "cell_type": "code",
   "execution_count": 5,
   "id": "a40b4e2b",
   "metadata": {},
   "outputs": [
    {
     "data": {
      "text/plain": [
       "280571172992510140037611932413038677189525"
      ]
     },
     "execution_count": 5,
     "metadata": {},
     "output_type": "execute_result"
    }
   ],
   "source": [
    "fibonacci_of = Fibonac()\n",
    "fibonacci_of(200)"
   ]
  },
  {
   "cell_type": "code",
   "execution_count": null,
   "id": "9cc2f55b",
   "metadata": {},
   "outputs": [],
   "source": []
  },
  {
   "cell_type": "code",
   "execution_count": null,
   "id": "59f4074c",
   "metadata": {},
   "outputs": [],
   "source": [
    "4.\tWrite a Python Program to Check Armstrong Number?"
   ]
  },
  {
   "cell_type": "code",
   "execution_count": 6,
   "id": "90a3a75c",
   "metadata": {},
   "outputs": [
    {
     "name": "stdout",
     "output_type": "stream",
     "text": [
      "Enter a three digit number: 153\n",
      "it is a armstrong number\n"
     ]
    }
   ],
   "source": [
    "def is_armstrong(n):\n",
    "    n = int(input('Enter a three digit number: '))\n",
    "    sum_n= 0\n",
    "    temp_var = n\n",
    "    while temp_var>0:\n",
    "        remainder = temp_var%10\n",
    "        sum_n = sum_n+ (remainder**3)\n",
    "        temp_var = temp_var//10\n",
    "        \n",
    "        \n",
    "    if n == sum_n:\n",
    "        print('it is a armstrong number')\n",
    "    else: \n",
    "        print('It is not armstrong number')\n",
    "\n",
    "is_armstrong(2)"
   ]
  },
  {
   "cell_type": "code",
   "execution_count": null,
   "id": "f0447dfa",
   "metadata": {
    "scrolled": true
   },
   "outputs": [],
   "source": []
  },
  {
   "cell_type": "code",
   "execution_count": null,
   "id": "44a71e90",
   "metadata": {},
   "outputs": [],
   "source": [
    "5.\tWrite a Python Program to Find Armstrong Number in an Interval?"
   ]
  },
  {
   "cell_type": "code",
   "execution_count": null,
   "id": "6510504d",
   "metadata": {},
   "outputs": [],
   "source": []
  },
  {
   "cell_type": "code",
   "execution_count": 7,
   "id": "c32a4ee9",
   "metadata": {},
   "outputs": [],
   "source": [
    "def armstrong_num(a,b):\n",
    "    a = int(input('Enter minimum value of the range: '))\n",
    "    b = int(input('Enter minimum value of the range: '))\n",
    "    #n = len(str(a)\n",
    "    \n",
    "    l = []\n",
    "    for j in range(a,b+1):\n",
    "        i = j\n",
    "        sum_n= 0\n",
    "        n = len(str(j))\n",
    "       \n",
    "        while i != 0:\n",
    "            k = i%10\n",
    "            sum_n = sum_n+ k**n\n",
    "            i = i//10\n",
    "            \n",
    "        \n",
    "        \n",
    "        if sum_n == j:\n",
    "            l.append(j)\n",
    "    return l"
   ]
  },
  {
   "cell_type": "code",
   "execution_count": 8,
   "id": "6e0c5c31",
   "metadata": {},
   "outputs": [
    {
     "name": "stdout",
     "output_type": "stream",
     "text": [
      "Enter minimum value of the range: 1\n",
      "Enter minimum value of the range: 10000\n"
     ]
    },
    {
     "data": {
      "text/plain": [
       "[1, 2, 3, 4, 5, 6, 7, 8, 9, 153, 370, 371, 407, 1634, 8208, 9474]"
      ]
     },
     "execution_count": 8,
     "metadata": {},
     "output_type": "execute_result"
    }
   ],
   "source": [
    "armstrong_num(1,1000)"
   ]
  },
  {
   "cell_type": "code",
   "execution_count": null,
   "id": "071a4f5d",
   "metadata": {},
   "outputs": [],
   "source": [
    "6.\tWrite a Python Program to Find the Sum of Natural Numbers?"
   ]
  },
  {
   "cell_type": "code",
   "execution_count": 9,
   "id": "8395f3d2",
   "metadata": {},
   "outputs": [
    {
     "name": "stdout",
     "output_type": "stream",
     "text": [
      "Enter a value: 20\n",
      "210\n"
     ]
    }
   ],
   "source": [
    "n  = int(input('Enter a value: '))\n",
    "sum = 0 \n",
    "while n>0:\n",
    "    sum += n\n",
    "    n = n-1\n",
    "print(sum)"
   ]
  },
  {
   "cell_type": "code",
   "execution_count": null,
   "id": "b003723f",
   "metadata": {},
   "outputs": [],
   "source": []
  }
 ],
 "metadata": {
  "kernelspec": {
   "display_name": "Python 3 (ipykernel)",
   "language": "python",
   "name": "python3"
  },
  "language_info": {
   "codemirror_mode": {
    "name": "ipython",
    "version": 3
   },
   "file_extension": ".py",
   "mimetype": "text/x-python",
   "name": "python",
   "nbconvert_exporter": "python",
   "pygments_lexer": "ipython3",
   "version": "3.9.12"
  }
 },
 "nbformat": 4,
 "nbformat_minor": 5
}
