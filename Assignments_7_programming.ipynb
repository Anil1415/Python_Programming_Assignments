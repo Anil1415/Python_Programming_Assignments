{
 "cells": [
  {
   "cell_type": "code",
   "execution_count": null,
   "id": "2e34b166",
   "metadata": {},
   "outputs": [],
   "source": [
    "1.\tWrite a Python Program to find sum of array?\n",
    "2.\tWrite a Python Program to find largest element in an array?\n",
    "3.\tWrite a Python Program for array rotation?\n",
    "4.\tWrite a Python Program to Split the array and add the first part to the end?\n",
    "5.\tWrite a Python Program to check if given array is Monotonic?"
   ]
  },
  {
   "cell_type": "code",
   "execution_count": null,
   "id": "faa3108a",
   "metadata": {},
   "outputs": [],
   "source": []
  },
  {
   "cell_type": "markdown",
   "id": "fb554b5d",
   "metadata": {},
   "source": [
    "1.\tWrite a Python Program to find sum of array"
   ]
  },
  {
   "cell_type": "code",
   "execution_count": 1,
   "id": "70146f8a",
   "metadata": {},
   "outputs": [
    {
     "name": "stdout",
     "output_type": "stream",
     "text": [
      "Enter number of elements to add: 4\n",
      "Enter the number: 1\n",
      "Enter the number: 2\n",
      "Enter the number: 3\n",
      "Enter the number: 4\n"
     ]
    },
    {
     "data": {
      "text/plain": [
       "10"
      ]
     },
     "execution_count": 1,
     "metadata": {},
     "output_type": "execute_result"
    }
   ],
   "source": [
    "def sum_array():\n",
    "    n = int(input(\"Enter number of elements to add: \"))\n",
    "    arr = []\n",
    "    for i in range(n):\n",
    "        x = int(input('Enter the number: '))\n",
    "        arr.append(x)\n",
    "        \n",
    "    arr   \n",
    "    total = 0 \n",
    "        \n",
    "    for j in range(len(arr)):\n",
    "            \n",
    "        total += arr[j]            \n",
    "    return total\n",
    "   \n",
    "    \n",
    "sum_array()  "
   ]
  },
  {
   "cell_type": "markdown",
   "id": "e4e257c9",
   "metadata": {},
   "source": [
    "### another method"
   ]
  },
  {
   "cell_type": "code",
   "execution_count": 2,
   "id": "1dc74d80",
   "metadata": {},
   "outputs": [
    {
     "data": {
      "text/plain": [
       "10"
      ]
     },
     "execution_count": 2,
     "metadata": {},
     "output_type": "execute_result"
    }
   ],
   "source": [
    "import array as ar\n",
    "def sum_array(arr):\n",
    "           \n",
    "    total = 0 \n",
    "        \n",
    "    for i in range(len(arr)):\n",
    "            \n",
    "        total += arr[i]            \n",
    "    return total\n",
    "\n",
    "a = ar.array('i', [1,2,3,4])\n",
    "sum_array(a)"
   ]
  },
  {
   "cell_type": "code",
   "execution_count": null,
   "id": "4e806e13",
   "metadata": {},
   "outputs": [],
   "source": []
  },
  {
   "cell_type": "markdown",
   "id": "c5e20a1f",
   "metadata": {},
   "source": [
    "2.\tWrite a Python Program to find largest element in an array?"
   ]
  },
  {
   "cell_type": "code",
   "execution_count": 3,
   "id": "93c02e40",
   "metadata": {},
   "outputs": [
    {
     "data": {
      "text/plain": [
       "9"
      ]
     },
     "execution_count": 3,
     "metadata": {},
     "output_type": "execute_result"
    }
   ],
   "source": [
    "l = [1,2,9,4,5]\n",
    "max_ = l[0]\n",
    "\n",
    "for i in l:\n",
    "    \n",
    "    if i > max_:\n",
    "        max_= i\n",
    "        \n",
    "max_"
   ]
  },
  {
   "cell_type": "code",
   "execution_count": null,
   "id": "f0608051",
   "metadata": {},
   "outputs": [],
   "source": []
  },
  {
   "cell_type": "markdown",
   "id": "a80fe2a9",
   "metadata": {},
   "source": [
    "3.\tWrite a Python Program for array rotation"
   ]
  },
  {
   "cell_type": "code",
   "execution_count": 4,
   "id": "bad3e917",
   "metadata": {},
   "outputs": [
    {
     "name": "stdout",
     "output_type": "stream",
     "text": [
      "4\n",
      "Enter the number of rotations: 1\n",
      "[4, 1, 2, 3]\n"
     ]
    }
   ],
   "source": [
    "a = [1,2,3,4]\n",
    "len_array = len(a)\n",
    "print(len_array)\n",
    "\n",
    "rotations = int(input('Enter the number of rotations: '))\n",
    "j = 0 # intial value for rotations\n",
    "while j < rotations:\n",
    "    \n",
    "    i = 0 # initial lenth of the list\n",
    "    \n",
    "    while i < len_array:\n",
    "        \n",
    "        b = a[i]\n",
    "        \n",
    "        a[i] = a[len_array-1]\n",
    "        \n",
    "        a[len_array-1] = b\n",
    "        \n",
    "        i+=1\n",
    "    j+=1\n",
    "print(a)"
   ]
  },
  {
   "cell_type": "code",
   "execution_count": null,
   "id": "cd13adcb",
   "metadata": {},
   "outputs": [],
   "source": []
  },
  {
   "cell_type": "markdown",
   "id": "1ac23e37",
   "metadata": {},
   "source": [
    "4.\tWrite a Python Program to Split the array and add the first part to the end?"
   ]
  },
  {
   "cell_type": "code",
   "execution_count": 5,
   "id": "b58d724e",
   "metadata": {},
   "outputs": [
    {
     "data": {
      "text/plain": [
       "[5, 6, 52, 36, 12, 10]"
      ]
     },
     "execution_count": 5,
     "metadata": {},
     "output_type": "execute_result"
    }
   ],
   "source": [
    "def split_array(a, n, x):\n",
    "    \n",
    "    b = a[:x]\n",
    "    \n",
    "    return(a[x:]+b[:])\n",
    "\n",
    "\n",
    "arr = [12, 10, 5, 6, 52, 36]\n",
    "n = len(arr)\n",
    "position = 2\n",
    "\n",
    "split_array(arr, n, position)"
   ]
  },
  {
   "cell_type": "code",
   "execution_count": null,
   "id": "79da2405",
   "metadata": {},
   "outputs": [],
   "source": []
  },
  {
   "cell_type": "markdown",
   "id": "e32d2e6a",
   "metadata": {},
   "source": [
    "5.\tWrite a Python Program to check if given array is Monotonic?"
   ]
  },
  {
   "cell_type": "raw",
   "id": "afe37fc3",
   "metadata": {},
   "source": [
    "# The given array is monotic if and only if it is monotone increase(A[i] <= A[i+1] for all i indexing from 0 to len(A)-2)\n",
    "\n",
    "# Or monotone decreasing (A[i] >= A[i+1] for all i indexing from 0 to len(A)-2)\n"
   ]
  },
  {
   "cell_type": "code",
   "execution_count": 6,
   "id": "af4ea114",
   "metadata": {},
   "outputs": [],
   "source": [
    "def ismonotone(a):\n",
    "    \n",
    "    n = len(a)\n",
    "    \n",
    "    if n==1:\n",
    "        return True\n",
    "    else:\n",
    "        if all(a[i]>=a[i+1] for i in range(0, n-1) or a[i]<=a[i+1]for i in range(0,n-1)):\n",
    "            return True\n",
    "        else:\n",
    "            return False"
   ]
  },
  {
   "cell_type": "code",
   "execution_count": 7,
   "id": "d95e2c49",
   "metadata": {},
   "outputs": [
    {
     "name": "stdout",
     "output_type": "stream",
     "text": [
      "True\n"
     ]
    }
   ],
   "source": [
    "a = [6, 5, 4,3,2,1]\n",
    "print(ismonotone(a))"
   ]
  },
  {
   "cell_type": "code",
   "execution_count": null,
   "id": "0b1ed09d",
   "metadata": {},
   "outputs": [],
   "source": []
  }
 ],
 "metadata": {
  "kernelspec": {
   "display_name": "Python 3 (ipykernel)",
   "language": "python",
   "name": "python3"
  },
  "language_info": {
   "codemirror_mode": {
    "name": "ipython",
    "version": 3
   },
   "file_extension": ".py",
   "mimetype": "text/x-python",
   "name": "python",
   "nbconvert_exporter": "python",
   "pygments_lexer": "ipython3",
   "version": "3.9.12"
  }
 },
 "nbformat": 4,
 "nbformat_minor": 5
}
