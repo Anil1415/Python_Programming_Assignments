{
 "cells": [
  {
   "cell_type": "code",
   "execution_count": null,
   "id": "5fcba0ce",
   "metadata": {},
   "outputs": [],
   "source": [
    "1.\tWrite a Python program to print \"Hello Python\"?"
   ]
  },
  {
   "cell_type": "code",
   "execution_count": 1,
   "id": "87491ab1",
   "metadata": {},
   "outputs": [
    {
     "name": "stdout",
     "output_type": "stream",
     "text": [
      "Hello Python\n"
     ]
    }
   ],
   "source": [
    "print('Hello Python')"
   ]
  },
  {
   "cell_type": "code",
   "execution_count": null,
   "id": "bc0abb9d",
   "metadata": {},
   "outputs": [],
   "source": []
  },
  {
   "cell_type": "code",
   "execution_count": null,
   "id": "eb83841d",
   "metadata": {},
   "outputs": [],
   "source": [
    "2.\tWrite a Python program to do arithmetical operations addition and division.?"
   ]
  },
  {
   "cell_type": "code",
   "execution_count": 2,
   "id": "a4c8f47f",
   "metadata": {},
   "outputs": [
    {
     "name": "stdout",
     "output_type": "stream",
     "text": [
      "Enter two values: \n",
      "Enter an integer value of x: 2\n",
      "Enter an integer value of y: 4\n",
      "Addition value is: 6\n",
      "Division value is: 0.50\n"
     ]
    }
   ],
   "source": [
    "class arithmetic:\n",
    "    try:\n",
    "        def add(self,a,b):            \n",
    "            summation = a+b\n",
    "            return summation\n",
    "        \n",
    "        def div(self,a,b):\n",
    "            division = a/b\n",
    "            return division\n",
    "        \n",
    "    except Exception as e:\n",
    "        print('Error occured:  ',e)\n",
    "        \n",
    "print('Enter two values: ')\n",
    "x = int(input('Enter an integer value of x: '))\n",
    "y = int(input('Enter an integer value of y: '))\n",
    "operation_obj = arithmetic()\n",
    "addition = operation_obj.add(x,y)\n",
    "d = operation_obj.div(x,y)\n",
    "print(f\"Addition value is: {addition}\")\n",
    "print(\"Division value is: {:.2f}\".format(d))"
   ]
  },
  {
   "cell_type": "code",
   "execution_count": null,
   "id": "e98fa8f7",
   "metadata": {},
   "outputs": [],
   "source": []
  },
  {
   "cell_type": "code",
   "execution_count": null,
   "id": "c57e454e",
   "metadata": {},
   "outputs": [],
   "source": [
    "# Area of triangle (Base and height as parameters)"
   ]
  },
  {
   "cell_type": "code",
   "execution_count": null,
   "id": "c45af6bd",
   "metadata": {},
   "outputs": [],
   "source": [
    "3.\tWrite a Python program to find the area of a triangle?"
   ]
  },
  {
   "cell_type": "code",
   "execution_count": 3,
   "id": "6d059c09",
   "metadata": {},
   "outputs": [
    {
     "name": "stdout",
     "output_type": "stream",
     "text": [
      "\n",
      " enter the length of base and height:  \n",
      "\n",
      " enter base value (b): 2\n",
      "\n",
      " enter the height value (h):  5\n",
      "\n",
      " Area of the triangle is: 5.0\n"
     ]
    }
   ],
   "source": [
    "class area:\n",
    "    def triangle(self,x,y):\n",
    "        area = 0.5 * x * y\n",
    "        return area\n",
    "# area based on Base and height \n",
    "print('\\n enter the length of base and height:  ', end='\\n')\n",
    "\n",
    "b = float(input(\"\\n enter base value (b): \" ))\n",
    "h = float(input('\\n enter the height value (h):  ' ))\n",
    "obj = area()\n",
    "a = obj.triangle(b,h)\n",
    "print(f'\\n Area of the triangle is: {a}')\n"
   ]
  },
  {
   "cell_type": "code",
   "execution_count": null,
   "id": "611ca203",
   "metadata": {},
   "outputs": [],
   "source": []
  },
  {
   "cell_type": "code",
   "execution_count": null,
   "id": "7902cb6b",
   "metadata": {},
   "outputs": [],
   "source": [
    "4.\tWrite a Python program to swap two variables?\n",
    "\n"
   ]
  },
  {
   "cell_type": "code",
   "execution_count": 4,
   "id": "249eee23",
   "metadata": {},
   "outputs": [
    {
     "name": "stdout",
     "output_type": "stream",
     "text": [
      "Enter integer value of a: 4\n",
      "Enter integer value of b: 9\n"
     ]
    },
    {
     "data": {
      "text/plain": [
       "(9, 4)"
      ]
     },
     "execution_count": 4,
     "metadata": {},
     "output_type": "execute_result"
    }
   ],
   "source": [
    "class swap:\n",
    "    def swapping (self,x,y):\n",
    "        temp_var = x\n",
    "        x = y\n",
    "        y = temp_var\n",
    "        return x, y\n",
    "a = int(input('Enter integer value of a: '))\n",
    "b = int(input('Enter integer value of b: '))\n",
    "obj_swap = swap()\n",
    "obj_swap.swapping(a,b)"
   ]
  },
  {
   "cell_type": "code",
   "execution_count": null,
   "id": "739679d3",
   "metadata": {},
   "outputs": [],
   "source": []
  },
  {
   "cell_type": "code",
   "execution_count": null,
   "id": "dddc51c6",
   "metadata": {},
   "outputs": [],
   "source": [
    "5.\tWrite a Python program to generate a random number?\n"
   ]
  },
  {
   "cell_type": "code",
   "execution_count": 5,
   "id": "0648ef7c",
   "metadata": {},
   "outputs": [],
   "source": [
    "import random"
   ]
  },
  {
   "cell_type": "code",
   "execution_count": 6,
   "id": "1b803de3",
   "metadata": {},
   "outputs": [
    {
     "data": {
      "text/plain": [
       "-88"
      ]
     },
     "execution_count": 6,
     "metadata": {},
     "output_type": "execute_result"
    }
   ],
   "source": [
    "random.randint(-99,-1) # produces number between those two numbers"
   ]
  },
  {
   "cell_type": "code",
   "execution_count": 7,
   "id": "c4ff5001",
   "metadata": {},
   "outputs": [
    {
     "ename": "ValueError",
     "evalue": "empty range for randrange() (-1, -98, -97)",
     "output_type": "error",
     "traceback": [
      "\u001b[0;31m---------------------------------------------------------------------------\u001b[0m",
      "\u001b[0;31mValueError\u001b[0m                                Traceback (most recent call last)",
      "Input \u001b[0;32mIn [7]\u001b[0m, in \u001b[0;36m<cell line: 1>\u001b[0;34m()\u001b[0m\n\u001b[0;32m----> 1\u001b[0m \u001b[43mrandom\u001b[49m\u001b[38;5;241;43m.\u001b[39;49m\u001b[43mrandint\u001b[49m\u001b[43m(\u001b[49m\u001b[38;5;241;43m-\u001b[39;49m\u001b[38;5;241;43m1\u001b[39;49m\u001b[43m,\u001b[49m\u001b[38;5;241;43m-\u001b[39;49m\u001b[38;5;241;43m99\u001b[39;49m\u001b[43m)\u001b[49m\n",
      "File \u001b[0;32m~/opt/anaconda3/lib/python3.9/random.py:338\u001b[0m, in \u001b[0;36mRandom.randint\u001b[0;34m(self, a, b)\u001b[0m\n\u001b[1;32m    334\u001b[0m \u001b[38;5;28;01mdef\u001b[39;00m \u001b[38;5;21mrandint\u001b[39m(\u001b[38;5;28mself\u001b[39m, a, b):\n\u001b[1;32m    335\u001b[0m     \u001b[38;5;124;03m\"\"\"Return random integer in range [a, b], including both end points.\u001b[39;00m\n\u001b[1;32m    336\u001b[0m \u001b[38;5;124;03m    \"\"\"\u001b[39;00m\n\u001b[0;32m--> 338\u001b[0m     \u001b[38;5;28;01mreturn\u001b[39;00m \u001b[38;5;28;43mself\u001b[39;49m\u001b[38;5;241;43m.\u001b[39;49m\u001b[43mrandrange\u001b[49m\u001b[43m(\u001b[49m\u001b[43ma\u001b[49m\u001b[43m,\u001b[49m\u001b[43m \u001b[49m\u001b[43mb\u001b[49m\u001b[38;5;241;43m+\u001b[39;49m\u001b[38;5;241;43m1\u001b[39;49m\u001b[43m)\u001b[49m\n",
      "File \u001b[0;32m~/opt/anaconda3/lib/python3.9/random.py:316\u001b[0m, in \u001b[0;36mRandom.randrange\u001b[0;34m(self, start, stop, step)\u001b[0m\n\u001b[1;32m    314\u001b[0m     \u001b[38;5;28;01mreturn\u001b[39;00m istart \u001b[38;5;241m+\u001b[39m \u001b[38;5;28mself\u001b[39m\u001b[38;5;241m.\u001b[39m_randbelow(width)\n\u001b[1;32m    315\u001b[0m \u001b[38;5;28;01mif\u001b[39;00m step \u001b[38;5;241m==\u001b[39m \u001b[38;5;241m1\u001b[39m:\n\u001b[0;32m--> 316\u001b[0m     \u001b[38;5;28;01mraise\u001b[39;00m \u001b[38;5;167;01mValueError\u001b[39;00m(\u001b[38;5;124m\"\u001b[39m\u001b[38;5;124mempty range for randrange() (\u001b[39m\u001b[38;5;132;01m%d\u001b[39;00m\u001b[38;5;124m, \u001b[39m\u001b[38;5;132;01m%d\u001b[39;00m\u001b[38;5;124m, \u001b[39m\u001b[38;5;132;01m%d\u001b[39;00m\u001b[38;5;124m)\u001b[39m\u001b[38;5;124m\"\u001b[39m \u001b[38;5;241m%\u001b[39m (istart, istop, width))\n\u001b[1;32m    318\u001b[0m \u001b[38;5;66;03m# Non-unit step argument supplied.\u001b[39;00m\n\u001b[1;32m    319\u001b[0m istep \u001b[38;5;241m=\u001b[39m \u001b[38;5;28mint\u001b[39m(step)\n",
      "\u001b[0;31mValueError\u001b[0m: empty range for randrange() (-1, -98, -97)"
     ]
    }
   ],
   "source": [
    "random.randint(-1,-99)"
   ]
  },
  {
   "cell_type": "code",
   "execution_count": null,
   "id": "23699480",
   "metadata": {},
   "outputs": [],
   "source": []
  }
 ],
 "metadata": {
  "kernelspec": {
   "display_name": "Python 3 (ipykernel)",
   "language": "python",
   "name": "python3"
  },
  "language_info": {
   "codemirror_mode": {
    "name": "ipython",
    "version": 3
   },
   "file_extension": ".py",
   "mimetype": "text/x-python",
   "name": "python",
   "nbconvert_exporter": "python",
   "pygments_lexer": "ipython3",
   "version": "3.9.12"
  }
 },
 "nbformat": 4,
 "nbformat_minor": 5
}
