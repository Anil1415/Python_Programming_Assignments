{
 "cells": [
  {
   "cell_type": "code",
   "execution_count": null,
   "id": "5536bb01",
   "metadata": {},
   "outputs": [],
   "source": [
    "1.\tWrite a Python Program to Find LCM?"
   ]
  },
  {
   "cell_type": "code",
   "execution_count": null,
   "id": "e19bc6e1",
   "metadata": {},
   "outputs": [],
   "source": [
    "def lcm(x,y):\n",
    "    x = int(input('Enter first number: '))\n",
    "    y = int(input('Enter second number: '))\n",
    "    if x>y:\n",
    "        greater = x\n",
    "    else:\n",
    "        greater= y\n",
    "        \n",
    "    while True:\n",
    "        if ((greater%x == 0) and (greater%y == 0)):\n",
    "            lcm_x_y = greater\n",
    "            break\n",
    "        greater +=1\n",
    "    return lcm_x_y\n",
    "\n",
    "lcm(x,y)"
   ]
  },
  {
   "cell_type": "code",
   "execution_count": null,
   "id": "6c204e2a",
   "metadata": {},
   "outputs": [],
   "source": []
  },
  {
   "cell_type": "code",
   "execution_count": null,
   "id": "470f1030",
   "metadata": {},
   "outputs": [],
   "source": [
    "2.\tWrite a Python Program to Find HCF(GCD)?"
   ]
  },
  {
   "cell_type": "code",
   "execution_count": null,
   "id": "d01ac9aa",
   "metadata": {},
   "outputs": [],
   "source": [
    "def hcf(x,y):\n",
    "    x = int(input('Enter first number: '))\n",
    "    y = int(input('Enter second number: '))\n",
    "    if x>y:\n",
    "        smaller = x\n",
    "    else:\n",
    "        smaller= y\n",
    "    for i in range(1,smaller+1):\n",
    "        if ((x%i == 0) and (y%i == 0)):\n",
    "            hcf = i\n",
    "    return hcf\n",
    "\n",
    "hcf(x,y)"
   ]
  },
  {
   "cell_type": "code",
   "execution_count": null,
   "id": "f5151866",
   "metadata": {},
   "outputs": [],
   "source": []
  },
  {
   "cell_type": "code",
   "execution_count": null,
   "id": "3ade422e",
   "metadata": {},
   "outputs": [],
   "source": [
    "3.\tWrite a Python Program to Convert Decimal to Binary, Octal and Hexadecimal?"
   ]
  },
  {
   "cell_type": "code",
   "execution_count": 5,
   "id": "acb3b702",
   "metadata": {
    "scrolled": true
   },
   "outputs": [
    {
     "name": "stdout",
     "output_type": "stream",
     "text": [
      "Enter an integer: 33\n",
      "100001\n",
      " octal number is: 1\n",
      "number is: 4\n",
      "\n",
      " octal number is: 4\n",
      "number is: 0\n",
      "41"
     ]
    }
   ],
   "source": [
    "number = int(input(\"Enter an integer: \"))\n",
    "\n",
    "\n",
    "# def conversion_numbers(number):\n",
    "    \n",
    "\n",
    "\n",
    "\n",
    "    \n",
    "\n",
    "def to_binary(number):\n",
    "    \n",
    "    if number > 1:\n",
    "        to_binary(number//2) #recursive \n",
    "        \n",
    "    print(number%2,end='') #prints remainder for every recursive action\n",
    "    \n",
    "def to_binary1(number):\n",
    "    \n",
    "    if number > 1:\n",
    "        to_binary(number//2) #recursive \n",
    "        \n",
    "    print(number%2,end='')\n",
    "    \n",
    "def to_octal(number):\n",
    "    octal_number = [0]*100\n",
    "    i = 0\n",
    "    \n",
    "    while number != 0:\n",
    "        octal_number[i] = number % 8\n",
    "        print(f\"\\n octal number is: {octal_number[i]}\")\n",
    "        number = int(number/8)\n",
    "        print(f\"number is: {number}\")\n",
    "        i+=1\n",
    "        \n",
    "    for k in range(i-1, -1, -1):\n",
    "        print(octal_number[k],end=\"\")\n",
    "        \n",
    "    \n",
    "def to_hexadecimal():\n",
    "    \n",
    "    to_hexadecimal = hex(integer)\n",
    "    #print(to_hexadecimal)\n",
    "    \n",
    "bin = to_binary(number)\n",
    "oct = to_octal(number)\n",
    "# print(f\"\\n Binary_number is {bin}\")\n",
    "# print(f\"\\n Octal_number is {to_octal(number)}\")"
   ]
  },
  {
   "cell_type": "code",
   "execution_count": null,
   "id": "71b6c858",
   "metadata": {},
   "outputs": [],
   "source": [
    "octalNumber = [0] * 100\n"
   ]
  },
  {
   "cell_type": "code",
   "execution_count": null,
   "id": "2a6fcd85",
   "metadata": {},
   "outputs": [],
   "source": [
    "type(octalNumber)"
   ]
  },
  {
   "cell_type": "code",
   "execution_count": null,
   "id": "59010218",
   "metadata": {},
   "outputs": [],
   "source": [
    "33%8"
   ]
  },
  {
   "cell_type": "code",
   "execution_count": null,
   "id": "14dbe953",
   "metadata": {},
   "outputs": [],
   "source": [
    "4%8"
   ]
  },
  {
   "cell_type": "code",
   "execution_count": null,
   "id": "87c54332",
   "metadata": {},
   "outputs": [],
   "source": []
  },
  {
   "cell_type": "code",
   "execution_count": null,
   "id": "e4bacd65",
   "metadata": {},
   "outputs": [],
   "source": [
    "# introductory menu\n",
    "print (\"What are you converting from?\");\n",
    "\n",
    "def menu ():\n",
    "    print (\"\\n1. Decimal\")\n",
    "    print (\"2. Binary\")\n",
    "    print (\"3. Octal\")\n",
    "    print (\"4. Hexadecimal\")\n",
    "    print (\"5. Exit\")\n",
    "    pick = int(input(\"Please enter an option: \"))\n",
    "    return pick\n",
    "\n",
    "def toBinary (b):\n",
    "    return bin(b)\n",
    "\n",
    "def toDecimal (d):\n",
    "    return int(d)\n",
    "\n",
    "def toOctal (o):\n",
    "    return oct(o)\n",
    "\n",
    "def toHexadecimal (h):\n",
    "    return hex(h)\n",
    "\n",
    "\n",
    "def transform_to(value):\n",
    "    print(\"Transform to \")\n",
    "    choice = menu()\n",
    "    if choice == 1:\n",
    "        print(int(toDecimal (value)))\n",
    "        choice=5\n",
    "\n",
    "    elif choice == 2:\n",
    "        print(str(toBinary (value)))\n",
    "        choice=5\n",
    "\n",
    "\n",
    "    elif choice == 3:\n",
    "        print(str(toOctal (value)))\n",
    "        choice=5\n",
    "\n",
    "    elif choice == 4:\n",
    "        print(str(toHexadecimal (value)))\n",
    "        choice=5\n",
    "\n",
    "def main():\n",
    "    choice=0\n",
    "    while choice !=5:\n",
    "        choice=menu()\n",
    "        if choice == 1:\n",
    "            #convert Decimal to ?\n",
    "            d = eval(input(\"What is your Decimal Value?: \"))\n",
    "            transform_to(d)\n",
    "            print(int(toDecimal (d)))\n",
    "\n",
    "        elif choice == 2:\n",
    "            #convert Binary to ?\n",
    "            b = eval(input(\"What is your Binary Value?: \"))\n",
    "            transform_to(b)\n",
    "\n",
    "\n",
    "        elif choice == 3:\n",
    "            #convert Octal to ?\n",
    "            o = eval(input(\"What is your Octal Value?: \"))\n",
    "            transform_to(o)\n",
    "\n",
    "\n",
    "        elif choice == 4:\n",
    "            #convert Hexadecimal to ?\n",
    "            h = eval(input(\"What is your Hexadecimal Value?: \"))\n",
    "            transform_to(h)\n",
    "\n",
    "main()"
   ]
  },
  {
   "cell_type": "code",
   "execution_count": null,
   "id": "b957d80f",
   "metadata": {},
   "outputs": [],
   "source": []
  },
  {
   "cell_type": "code",
   "execution_count": null,
   "id": "c42b7ba8",
   "metadata": {},
   "outputs": [],
   "source": [
    "4.\tWrite a Python Program To Find ASCII value of a character?"
   ]
  },
  {
   "cell_type": "code",
   "execution_count": null,
   "id": "775a4650",
   "metadata": {},
   "outputs": [],
   "source": [
    "0b10+0o10+0x10"
   ]
  },
  {
   "cell_type": "code",
   "execution_count": null,
   "id": "7fb5255c",
   "metadata": {},
   "outputs": [],
   "source": [
    "0o10"
   ]
  },
  {
   "cell_type": "code",
   "execution_count": null,
   "id": "ca312a6f",
   "metadata": {},
   "outputs": [],
   "source": [
    "0x10"
   ]
  },
  {
   "cell_type": "code",
   "execution_count": null,
   "id": "b3861e49",
   "metadata": {},
   "outputs": [],
   "source": []
  },
  {
   "cell_type": "code",
   "execution_count": null,
   "id": "b944570e",
   "metadata": {},
   "outputs": [],
   "source": []
  },
  {
   "cell_type": "code",
   "execution_count": null,
   "id": "e7f5b1aa",
   "metadata": {},
   "outputs": [],
   "source": []
  },
  {
   "cell_type": "code",
   "execution_count": null,
   "id": "1d5dba5a",
   "metadata": {},
   "outputs": [],
   "source": [
    "5.\tWrite a Python Program to Make a Simple Calculator with 4 basic\n",
    "mathematical operations?"
   ]
  },
  {
   "cell_type": "code",
   "execution_count": null,
   "id": "664628e8",
   "metadata": {},
   "outputs": [],
   "source": []
  },
  {
   "cell_type": "code",
   "execution_count": null,
   "id": "93ebb464",
   "metadata": {},
   "outputs": [],
   "source": []
  },
  {
   "cell_type": "code",
   "execution_count": null,
   "id": "61e6b538",
   "metadata": {},
   "outputs": [],
   "source": []
  },
  {
   "cell_type": "code",
   "execution_count": null,
   "id": "2ae7bdea",
   "metadata": {},
   "outputs": [],
   "source": []
  },
  {
   "cell_type": "code",
   "execution_count": null,
   "id": "51b8c4fc",
   "metadata": {},
   "outputs": [],
   "source": []
  },
  {
   "cell_type": "code",
   "execution_count": null,
   "id": "b27a5112",
   "metadata": {},
   "outputs": [],
   "source": []
  },
  {
   "cell_type": "code",
   "execution_count": null,
   "id": "a349c001",
   "metadata": {},
   "outputs": [],
   "source": []
  },
  {
   "cell_type": "code",
   "execution_count": null,
   "id": "10fd195d",
   "metadata": {},
   "outputs": [],
   "source": []
  },
  {
   "cell_type": "code",
   "execution_count": null,
   "id": "e9bde0e3",
   "metadata": {},
   "outputs": [],
   "source": []
  }
 ],
 "metadata": {
  "kernelspec": {
   "display_name": "Python 3 (ipykernel)",
   "language": "python",
   "name": "python3"
  },
  "language_info": {
   "codemirror_mode": {
    "name": "ipython",
    "version": 3
   },
   "file_extension": ".py",
   "mimetype": "text/x-python",
   "name": "python",
   "nbconvert_exporter": "python",
   "pygments_lexer": "ipython3",
   "version": "3.9.12"
  }
 },
 "nbformat": 4,
 "nbformat_minor": 5
}
