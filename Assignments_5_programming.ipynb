{
 "cells": [
  {
   "cell_type": "code",
   "execution_count": null,
   "id": "7b995a88",
   "metadata": {},
   "outputs": [],
   "source": [
    "1.\tWrite a Python Program to Find LCM"
   ]
  },
  {
   "cell_type": "code",
   "execution_count": 1,
   "id": "e19bc6e1",
   "metadata": {},
   "outputs": [
    {
     "name": "stdout",
     "output_type": "stream",
     "text": [
      "Enter first number: 7\n",
      "Enter second number: 14\n"
     ]
    },
    {
     "data": {
      "text/plain": [
       "14"
      ]
     },
     "execution_count": 1,
     "metadata": {},
     "output_type": "execute_result"
    }
   ],
   "source": [
    "def lcm(x,y):\n",
    "   \n",
    "    if x>y:\n",
    "        greater = x\n",
    "    else:\n",
    "        greater= y\n",
    "        \n",
    "    while True:\n",
    "        if ((greater%x == 0) and (greater%y == 0)):\n",
    "            lcm_x_y = greater\n",
    "            break\n",
    "        greater +=1\n",
    "    return lcm_x_y\n",
    "\n",
    "x = int(input('Enter first number: '))\n",
    "y = int(input('Enter second number: '))\n",
    "\n",
    "lcm(x,y)"
   ]
  },
  {
   "cell_type": "code",
   "execution_count": null,
   "id": "3c704ce9",
   "metadata": {},
   "outputs": [],
   "source": []
  },
  {
   "cell_type": "code",
   "execution_count": null,
   "id": "3f3584bd",
   "metadata": {},
   "outputs": [],
   "source": [
    "2.\tWrite a Python Program to Find HCF(GCD)?"
   ]
  },
  {
   "cell_type": "code",
   "execution_count": 2,
   "id": "8694a4f9",
   "metadata": {},
   "outputs": [
    {
     "name": "stdout",
     "output_type": "stream",
     "text": [
      "Enter first number: 16\n",
      "Enter second number: 8\n"
     ]
    },
    {
     "data": {
      "text/plain": [
       "8"
      ]
     },
     "execution_count": 2,
     "metadata": {},
     "output_type": "execute_result"
    }
   ],
   "source": [
    "def hcf(x,y):\n",
    "   \n",
    "    if x>y:\n",
    "        smaller = x\n",
    "    else:\n",
    "        smaller= y\n",
    "    for i in range(1,smaller+1):\n",
    "        if ((x%i == 0) and (y%i == 0)):\n",
    "            hcf = i\n",
    "    return hcf\n",
    "\n",
    "x = int(input('Enter first number: '))\n",
    "y = int(input('Enter second number: '))\n",
    "\n",
    "hcf(x,y)"
   ]
  },
  {
   "cell_type": "code",
   "execution_count": null,
   "id": "f5151866",
   "metadata": {},
   "outputs": [],
   "source": []
  },
  {
   "cell_type": "code",
   "execution_count": null,
   "id": "3ade422e",
   "metadata": {},
   "outputs": [],
   "source": [
    "3.\tWrite a Python Program to Convert Decimal to Binary, Octal and Hexadecimal?"
   ]
  },
  {
   "cell_type": "code",
   "execution_count": null,
   "id": "385cb7ba",
   "metadata": {
    "scrolled": true
   },
   "outputs": [],
   "source": [
    "number = int(input(\"Enter an integer: \"))   \n",
    "\n",
    "def to_binary(number):\n",
    "    \n",
    "    if number > 1:\n",
    "        to_binary(number//2) #recursive \n",
    "        \n",
    "    print(number%2,end=\"\") #prints remainder for every recursive action\n",
    "    \n",
    "\n",
    "    \n",
    "def to_octal(number):\n",
    "    octal_number = [0]*100 #initialise array with 100 inputs\n",
    "    i = 0\n",
    "    \n",
    "    while number != 0:\n",
    "        octal_number[i] = number % 8\n",
    "        number = int(number/8)\n",
    "        i+=1\n",
    "        \n",
    "    for k in range(i-1, -1, -1):\n",
    "        print(octal_number[k],end=\"\")\n",
    "        \n",
    "    \n",
    "def to_hexadecimal(number):\n",
    "    hexa_number = ['0']*100 #initialise array with 100 inputs\n",
    "    a = 0\n",
    "    while number != 0:\n",
    "        temp = 0 \n",
    "        temp = number % 16\n",
    "        \n",
    "        if temp<10:\n",
    "            hexa_number[a] = chr(temp+48)\n",
    "            a+=1\n",
    "        else:\n",
    "            hexa_number[a] = chr(temp+55)\n",
    "            a+=1\n",
    "            \n",
    "        number = int(number/16)\n",
    "        \n",
    "            \n",
    "        \n",
    "    j = a-1\n",
    "    \n",
    "    while j>=0:\n",
    "        print(hexa_number[j],end=\"\")\n",
    "        j = j-1"
   ]
  },
  {
   "cell_type": "code",
   "execution_count": null,
   "id": "15687a3d",
   "metadata": {},
   "outputs": [],
   "source": [
    "to_binary(number)"
   ]
  },
  {
   "cell_type": "code",
   "execution_count": null,
   "id": "f8b252b9",
   "metadata": {},
   "outputs": [],
   "source": [
    "to_octal(number)"
   ]
  },
  {
   "cell_type": "code",
   "execution_count": null,
   "id": "34c298c7",
   "metadata": {},
   "outputs": [],
   "source": [
    "to_hexadecimal(number)"
   ]
  },
  {
   "cell_type": "code",
   "execution_count": null,
   "id": "5259eb73",
   "metadata": {},
   "outputs": [],
   "source": []
  },
  {
   "cell_type": "code",
   "execution_count": null,
   "id": "828d3758",
   "metadata": {},
   "outputs": [],
   "source": [
    "4.\tWrite a Python Program To Find ASCII value of a character"
   ]
  },
  {
   "cell_type": "code",
   "execution_count": null,
   "id": "b944570e",
   "metadata": {},
   "outputs": [],
   "source": [
    "def ascii(value):\n",
    "    try:\n",
    "        for i in range(0,1):\n",
    "            print(f\"The ASCII value of given character is : {ord(value)}\")\n",
    "            \n",
    "    except Exception as e:\n",
    "        print(f\"The given input is more characters instead of one: {len(value)}\",e)\n",
    "        \n",
    "value = input('enter a value: ') # takes input as string\n",
    "ascii(value)"
   ]
  },
  {
   "cell_type": "code",
   "execution_count": null,
   "id": "d8789f0c",
   "metadata": {},
   "outputs": [],
   "source": []
  },
  {
   "cell_type": "code",
   "execution_count": null,
   "id": "1d5dba5a",
   "metadata": {},
   "outputs": [],
   "source": [
    "5.\tWrite a Python Program to Make a Simple Calculator with 4 basic\n",
    "mathematical operations?"
   ]
  },
  {
   "cell_type": "code",
   "execution_count": null,
   "id": "664628e8",
   "metadata": {},
   "outputs": [],
   "source": [
    "def add(x1,x2):\n",
    "    return x1+x2\n",
    "\n",
    "def substract(x1,x2):\n",
    "    return x1-x2\n",
    "\n",
    "def multiply(x1,x2):\n",
    "    return x1*x2\n",
    "\n",
    "def division(x1,x2):\n",
    "    return x1/x2\n",
    "    \n",
    "def menu():\n",
    "    try:\n",
    "        value = int(input(\"\"\"\n",
    "        Select operations:\n",
    "\n",
    "        1 --> Addition (+)\n",
    "        2 --> Substraction (-)\n",
    "        3 --> Multiplication (*)\n",
    "        4 --> Division (/): \n",
    "        5 --> Exit\n",
    "\n",
    "        \"\"\"))\n",
    "        return value\n",
    "\n",
    "    except Exception as e:\n",
    "        print(\"An error occured: \",e)\n",
    "    \n",
    "\n",
    "\n",
    "\n",
    "\n",
    "def main(): \n",
    "    \n",
    "    operation = 0\n",
    "    \n",
    "    while operation <= 5:\n",
    "        try:       \n",
    "            operation = menu()\n",
    "            a= float(input('Enter first number: '))\n",
    "            b= float(input('Enter second number: '))\n",
    "            \n",
    "        except Exception as e:\n",
    "            print(\"an error occured in main() function: \",e)\n",
    "            return main()\n",
    "        \n",
    "        if operation == 5:\n",
    "            print(\"User does not like to proceed.\")\n",
    "            break\n",
    "\n",
    "        elif operation == 1:\n",
    "            print(f\"The addition of {a} + {b}  = {add(a,b)}\")\n",
    "\n",
    "        elif operation == 2:\n",
    "            print(f\"The Substraction  of {a} - {b}  = {substract(a,b)}\")\n",
    "        elif operation == 3:\n",
    "            print(f\"The product of {a} * {b}  = {multiply(a,b)}\")\n",
    "            \n",
    "        elif operation == 4 or b == 0:\n",
    "            try:\n",
    "                print(f\"The division os {a} / {b} is :{a/b} \")\n",
    "            except Exception as e:\n",
    "                print(\"Zero division error occured\",e)\n",
    "           \n",
    "        \n",
    "        \n",
    "        cal_again = input(\"Do you want to perform another operation (y/n): \")\n",
    "        \n",
    "        if cal_again.upper() == 'Y':\n",
    "            main()\n",
    "            break\n",
    "            \n",
    "        else:\n",
    "            print(\"Calculation ended\")\n",
    "            break\n",
    "        \n",
    "        \n",
    "\n",
    "main()"
   ]
  },
  {
   "cell_type": "code",
   "execution_count": null,
   "id": "a9582bf8",
   "metadata": {},
   "outputs": [],
   "source": []
  }
 ],
 "metadata": {
  "kernelspec": {
   "display_name": "Python 3 (ipykernel)",
   "language": "python",
   "name": "python3"
  },
  "language_info": {
   "codemirror_mode": {
    "name": "ipython",
    "version": 3
   },
   "file_extension": ".py",
   "mimetype": "text/x-python",
   "name": "python",
   "nbconvert_exporter": "python",
   "pygments_lexer": "ipython3",
   "version": "3.9.12"
  }
 },
 "nbformat": 4,
 "nbformat_minor": 5
}
